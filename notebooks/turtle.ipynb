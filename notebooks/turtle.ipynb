{
 "cells": [
  {
   "cell_type": "code",
   "execution_count": 1,
   "id": "30c90512-955f-4385-8dfd-3f5426a3a243",
   "metadata": {},
   "outputs": [],
   "source": [
    "from mylis import mylis"
   ]
  },
  {
   "cell_type": "code",
   "execution_count": 2,
   "id": "56b31339-cecd-41b0-80a6-124c575144b7",
   "metadata": {},
   "outputs": [
    {
     "data": {
      "text/html": [
       "<svg width=\"300\" height=\"150\" style=\"fill:none; stroke-linecap:round;\">\n",
       "    <rect width=\"100%\" height=\"100%\" fill=\"#F3F3F7\" />\n",
       "\n",
       "\n",
       "<path stroke=\"#663399\" stroke-width=\"2\" d=\"M 150,75 250,75\" />'\n",
       "\n",
       "<g transform=\"rotate(-90.0,250.0,75.0) translate(250.0, 75.0)\">\n",
       "    <circle stroke=\"#63A375\" stroke-width=\"2\" fill=\"transparent\" r=\"5.5\" cx=\"0\" cy=\"0\"/>\n",
       "    <polygon points=\"0,12 2,9 -2,9\" style=\"fill:#63A375;stroke:#63A375;stroke-width:2\"/>\n",
       "</g>\n",
       "\n",
       "</svg>"
      ],
      "text/plain": [
       "<IPython.core.display.HTML object>"
      ]
     },
     "metadata": {},
     "output_type": "display_data"
    }
   ],
   "source": [
    "%%mylis\n",
    "\n",
    "(fd 100)"
   ]
  },
  {
   "cell_type": "code",
   "execution_count": 3,
   "id": "534f8945-f9aa-4990-a602-12f111ea8bdb",
   "metadata": {},
   "outputs": [
    {
     "data": {
      "text/html": [
       "<svg width=\"300\" height=\"150\" style=\"fill:none; stroke-linecap:round;\">\n",
       "    <rect width=\"100%\" height=\"100%\" fill=\"#F3F3F7\" />\n",
       "\n",
       "\n",
       "<path stroke=\"#663399\" stroke-width=\"2\" d=\"M 150,75 190,75 210,40.4 190,5.7 150,5.7 130,40.4 150,75 190,75\" />'\n",
       "\n",
       "<g transform=\"rotate(210.0,190.0,75.0) translate(190.0, 75.0)\">\n",
       "    <circle stroke=\"#63A375\" stroke-width=\"2\" fill=\"transparent\" r=\"5.5\" cx=\"0\" cy=\"0\"/>\n",
       "    <polygon points=\"0,12 2,9 -2,9\" style=\"fill:#63A375;stroke:#63A375;stroke-width:2\"/>\n",
       "</g>\n",
       "\n",
       "</svg>"
      ],
      "text/plain": [
       "<IPython.core.display.HTML object>"
      ]
     },
     "metadata": {},
     "output_type": "display_data"
    }
   ],
   "source": [
    "%%mylis\n",
    "\n",
    "(make_turtle)\n",
    "\n",
    "(define [polygon sides count]\n",
    "    (fd 40)\n",
    "    (lt (/ 360 sides))\n",
    "    (if (> count 0)\n",
    "        (polygon sides (- count 1))))\n",
    "\n",
    "(polygon 6 6)"
   ]
  },
  {
   "cell_type": "code",
   "execution_count": 4,
   "id": "3779987c-363a-4f74-9feb-0b67ca65ecef",
   "metadata": {},
   "outputs": [
    {
     "data": {
      "text/html": [
       "<svg width=\"300\" height=\"150\" style=\"fill:none; stroke-linecap:round;\">\n",
       "    <rect width=\"100%\" height=\"100%\" fill=\"#F3F3F7\" />\n",
       "\n",
       "\n",
       "<path stroke=\"#663399\" stroke-width=\"2\" d=\"M 150,75 190,75 202.4,37 170,13.4 137.6,37 150,75 190,75\" />'\n",
       "\n",
       "<g transform=\"rotate(198.0,190.0,75.0) translate(190.0, 75.0)\">\n",
       "    <circle stroke=\"#63A375\" stroke-width=\"2\" fill=\"transparent\" r=\"5.5\" cx=\"0\" cy=\"0\"/>\n",
       "    <polygon points=\"0,12 2,9 -2,9\" style=\"fill:#63A375;stroke:#63A375;stroke-width:2\"/>\n",
       "</g>\n",
       "\n",
       "</svg>"
      ],
      "text/plain": [
       "<IPython.core.display.HTML object>"
      ]
     },
     "metadata": {},
     "output_type": "display_data"
    }
   ],
   "source": [
    "%%mylis\n",
    "\n",
    "(make_turtle)\n",
    "\n",
    "(define [poly sides]\n",
    "    (polygon sides sides))\n",
    "\n",
    "(poly 5)"
   ]
  },
  {
   "cell_type": "markdown",
   "id": "5c41ebb0-0f1a-474e-ba6d-cdbdf5b5c813",
   "metadata": {},
   "source": [
    "### Exercise\n",
    "\n",
    "Implement a `repeat` statement. See skipped `test_repeat` in `evaluator_test.py`.\n",
    "\n",
    "The following code should draw a pentagon like the cell above."
   ]
  },
  {
   "cell_type": "code",
   "execution_count": 5,
   "id": "831eb414-a59c-443d-afbc-9921d14a2642",
   "metadata": {},
   "outputs": [
    {
     "data": {
      "text/html": [
       "<svg width=\"300\" height=\"150\" style=\"fill:none; stroke-linecap:round;\">\n",
       "    <rect width=\"100%\" height=\"100%\" fill=\"#F3F3F7\" />\n",
       "\n",
       "\n",
       "<path stroke=\"#663399\" stroke-width=\"2\" d=\"M 150,75\" />'\n",
       "\n",
       "<g transform=\"rotate(-90.0,150,75) translate(150, 75)\">\n",
       "    <circle stroke=\"#63A375\" stroke-width=\"2\" fill=\"transparent\" r=\"5.5\" cx=\"0\" cy=\"0\"/>\n",
       "    <polygon points=\"0,12 2,9 -2,9\" style=\"fill:#63A375;stroke:#63A375;stroke-width:2\"/>\n",
       "</g>\n",
       "\n",
       "</svg>"
      ],
      "text/plain": [
       "<IPython.core.display.HTML object>"
      ]
     },
     "metadata": {},
     "output_type": "display_data"
    },
    {
     "name": "stderr",
     "output_type": "stream",
     "text": [
      "[mylis error] Undefined symbol: 'repeat'\n"
     ]
    }
   ],
   "source": [
    "%%mylis\n",
    "\n",
    "(make_turtle)\n",
    "(repeat 5 (fd 40 72))"
   ]
  },
  {
   "cell_type": "code",
   "execution_count": null,
   "id": "3f16a2d8-7815-4edd-8f5c-1fb2504d97f3",
   "metadata": {},
   "outputs": [],
   "source": []
  }
 ],
 "metadata": {
  "kernelspec": {
   "display_name": "Python 3 (ipykernel)",
   "language": "python",
   "name": "python3"
  },
  "language_info": {
   "codemirror_mode": {
    "name": "ipython",
    "version": 3
   },
   "file_extension": ".py",
   "mimetype": "text/x-python",
   "name": "python",
   "nbconvert_exporter": "python",
   "pygments_lexer": "ipython3",
   "version": "3.12.2"
  }
 },
 "nbformat": 4,
 "nbformat_minor": 5
}
