{
 "cells": [
  {
   "cell_type": "markdown",
   "id": "28c1e1a7-144f-40a1-a3f1-824f643de2de",
   "metadata": {},
   "source": [
    "# Magic demo\n",
    "\n",
    "Experiments with the `%%mylis` magic command.\n",
    "\n",
    "Import `mylis` to make `%%mylis` available:"
   ]
  },
  {
   "cell_type": "code",
   "execution_count": 1,
   "id": "860122bb-4545-4c57-8ce8-526990ffba1c",
   "metadata": {},
   "outputs": [],
   "source": [
    "from mylis import mylis"
   ]
  },
  {
   "cell_type": "markdown",
   "id": "fa8b3424-224f-47ed-9620-252279374af7",
   "metadata": {},
   "source": [
    "A cell marked with `%%mylis` is evaluated as `mylis` source code."
   ]
  },
  {
   "cell_type": "code",
   "execution_count": 2,
   "id": "09a28d6a-e5e4-46c8-9daa-b1d763e001d7",
   "metadata": {},
   "outputs": [
    {
     "data": {
      "text/plain": [
       "6"
      ]
     },
     "execution_count": 2,
     "metadata": {},
     "output_type": "execute_result"
    }
   ],
   "source": [
    "%%mylis\n",
    "\n",
    "(define (twice n) (* 2 n))\n",
    "\n",
    "(twice 3)"
   ]
  },
  {
   "cell_type": "code",
   "execution_count": 3,
   "id": "bd68d7c5-c79b-4262-be5b-3e15c9384ce4",
   "metadata": {},
   "outputs": [
    {
     "data": {
      "text/plain": [
       "10"
      ]
     },
     "execution_count": 3,
     "metadata": {},
     "output_type": "execute_result"
    }
   ],
   "source": [
    "%%mylis\n",
    "\n",
    "(twice 5)"
   ]
  },
  {
   "cell_type": "code",
   "execution_count": 4,
   "id": "b6bf4e7d-348c-46ed-8f5c-4f6a3c939d1a",
   "metadata": {},
   "outputs": [
    {
     "data": {
      "text/plain": [
       "120"
      ]
     },
     "execution_count": 4,
     "metadata": {},
     "output_type": "execute_result"
    }
   ],
   "source": [
    "%%mylis\n",
    "\n",
    "(define (! n)\n",
    "    (if (< n 2)\n",
    "        1\n",
    "        (* n (! (- n 1)))\n",
    "    )\n",
    ")\n",
    "\n",
    "(! 5)"
   ]
  },
  {
   "cell_type": "markdown",
   "id": "f65c680d-6010-4621-a7ae-13b4d8d99475",
   "metadata": {},
   "source": [
    "Subsequent cells are evaluated in the same `mylis` environment, unless the `%%mylis reset` argument is used."
   ]
  },
  {
   "cell_type": "code",
   "execution_count": 5,
   "id": "fe3aaa66-b6bb-4697-8765-286b10357b0b",
   "metadata": {},
   "outputs": [
    {
     "data": {
      "text/plain": [
       "3628800"
      ]
     },
     "execution_count": 5,
     "metadata": {},
     "output_type": "execute_result"
    }
   ],
   "source": [
    "%%mylis\n",
    "\n",
    "(! 10)"
   ]
  },
  {
   "cell_type": "code",
   "execution_count": 6,
   "id": "03ba05fe-a2e9-40a1-a23b-c5aad9ea90eb",
   "metadata": {},
   "outputs": [
    {
     "name": "stderr",
     "output_type": "stream",
     "text": [
      "[mylis error] Undefined symbol: '!'\n"
     ]
    }
   ],
   "source": [
    "%%mylis reset\n",
    "\n",
    "(! 11)"
   ]
  },
  {
   "cell_type": "code",
   "execution_count": null,
   "id": "a375b5e8-5da6-40b6-92e9-d49baa55295e",
   "metadata": {},
   "outputs": [],
   "source": []
  }
 ],
 "metadata": {
  "kernelspec": {
   "display_name": "Python 3 (ipykernel)",
   "language": "python",
   "name": "python3"
  },
  "language_info": {
   "codemirror_mode": {
    "name": "ipython",
    "version": 3
   },
   "file_extension": ".py",
   "mimetype": "text/x-python",
   "name": "python",
   "nbconvert_exporter": "python",
   "pygments_lexer": "ipython3",
   "version": "3.12.2"
  }
 },
 "nbformat": 4,
 "nbformat_minor": 5
}
