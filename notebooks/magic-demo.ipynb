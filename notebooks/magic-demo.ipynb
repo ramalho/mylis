{
 "cells": [
  {
   "cell_type": "markdown",
   "id": "28c1e1a7-144f-40a1-a3f1-824f643de2de",
   "metadata": {},
   "source": [
    "# Magic demo\n",
    "\n",
    "Experiments with the `%%mylis` magic command.\n",
    "\n",
    "Import `mylis` to make `%%mylis` available:"
   ]
  },
  {
   "cell_type": "code",
   "execution_count": 5,
   "id": "860122bb-4545-4c57-8ce8-526990ffba1c",
   "metadata": {},
   "outputs": [],
   "source": [
    "from mylis import mylis"
   ]
  },
  {
   "cell_type": "markdown",
   "id": "fa8b3424-224f-47ed-9620-252279374af7",
   "metadata": {},
   "source": [
    "A cell marked with `%%mylis` is evaluated as `mylis` source code."
   ]
  },
  {
   "cell_type": "code",
   "execution_count": 8,
   "id": "09a28d6a-e5e4-46c8-9daa-b1d763e001d7",
   "metadata": {},
   "outputs": [
    {
     "data": {
      "text/plain": [
       "6"
      ]
     },
     "execution_count": 8,
     "metadata": {},
     "output_type": "execute_result"
    }
   ],
   "source": [
    "%%mylis\n",
    "\n",
    "(define (dobro n) (* 2 n))\n",
    "\n",
    "(dobro 3)"
   ]
  },
  {
   "cell_type": "markdown",
   "id": "f65c680d-6010-4621-a7ae-13b4d8d99475",
   "metadata": {},
   "source": [
    "Subsequent cells are evaluated in the same `mylis` environment, unless the `%%mylis reset` argument is used.\n",
    "\n",
    "**But this is not working as expected now:**"
   ]
  },
  {
   "cell_type": "code",
   "execution_count": 4,
   "id": "fe3aaa66-b6bb-4697-8765-286b10357b0b",
   "metadata": {},
   "outputs": [
    {
     "ename": "UndefinedSymbol",
     "evalue": "Undefined symbol: 'dobro'",
     "output_type": "error",
     "traceback": [
      "\u001b[0;31m---------------------------------------------------------------------------\u001b[0m",
      "\u001b[0;31mKeyError\u001b[0m                                  Traceback (most recent call last)",
      "File \u001b[0;32m~/prj/mylis/src/mylis/evaluator.py:40\u001b[0m, in \u001b[0;36mevaluate\u001b[0;34m(exp, env)\u001b[0m\n\u001b[1;32m     39\u001b[0m \u001b[38;5;28;01mtry\u001b[39;00m:\n\u001b[0;32m---> 40\u001b[0m     \u001b[38;5;28;01mreturn\u001b[39;00m \u001b[43menv\u001b[49m\u001b[43m[\u001b[49m\u001b[43mvar\u001b[49m\u001b[43m]\u001b[49m\n\u001b[1;32m     41\u001b[0m \u001b[38;5;28;01mexcept\u001b[39;00m \u001b[38;5;167;01mKeyError\u001b[39;00m \u001b[38;5;28;01mas\u001b[39;00m exc:\n",
      "File \u001b[0;32m/usr/local/lib/python3.12/collections/__init__.py:1014\u001b[0m, in \u001b[0;36mChainMap.__getitem__\u001b[0;34m(self, key)\u001b[0m\n\u001b[1;32m   1013\u001b[0m         \u001b[38;5;28;01mpass\u001b[39;00m\n\u001b[0;32m-> 1014\u001b[0m \u001b[38;5;28;01mreturn\u001b[39;00m \u001b[38;5;28;43mself\u001b[39;49m\u001b[38;5;241;43m.\u001b[39;49m\u001b[38;5;21;43m__missing__\u001b[39;49m\u001b[43m(\u001b[49m\u001b[43mkey\u001b[49m\u001b[43m)\u001b[49m\n",
      "File \u001b[0;32m/usr/local/lib/python3.12/collections/__init__.py:1006\u001b[0m, in \u001b[0;36mChainMap.__missing__\u001b[0;34m(self, key)\u001b[0m\n\u001b[1;32m   1005\u001b[0m \u001b[38;5;28;01mdef\u001b[39;00m \u001b[38;5;21m__missing__\u001b[39m(\u001b[38;5;28mself\u001b[39m, key):\n\u001b[0;32m-> 1006\u001b[0m     \u001b[38;5;28;01mraise\u001b[39;00m \u001b[38;5;167;01mKeyError\u001b[39;00m(key)\n",
      "\u001b[0;31mKeyError\u001b[0m: 'dobro'",
      "\nThe above exception was the direct cause of the following exception:\n",
      "\u001b[0;31mUndefinedSymbol\u001b[0m                           Traceback (most recent call last)",
      "Cell \u001b[0;32mIn[4], line 1\u001b[0m\n\u001b[0;32m----> 1\u001b[0m \u001b[43mget_ipython\u001b[49m\u001b[43m(\u001b[49m\u001b[43m)\u001b[49m\u001b[38;5;241;43m.\u001b[39;49m\u001b[43mrun_cell_magic\u001b[49m\u001b[43m(\u001b[49m\u001b[38;5;124;43m'\u001b[39;49m\u001b[38;5;124;43mmylis\u001b[39;49m\u001b[38;5;124;43m'\u001b[39;49m\u001b[43m,\u001b[49m\u001b[43m \u001b[49m\u001b[38;5;124;43m'\u001b[39;49m\u001b[38;5;124;43m'\u001b[39;49m\u001b[43m,\u001b[49m\u001b[43m \u001b[49m\u001b[38;5;124;43m'\u001b[39;49m\u001b[38;5;130;43;01m\\n\u001b[39;49;00m\u001b[38;5;124;43m(dobro 4)\u001b[39;49m\u001b[38;5;130;43;01m\\n\u001b[39;49;00m\u001b[38;5;124;43m'\u001b[39;49m\u001b[43m)\u001b[49m\n",
      "File \u001b[0;32m~/prj/.mylis/lib/python3.12/site-packages/IPython/core/interactiveshell.py:2541\u001b[0m, in \u001b[0;36mInteractiveShell.run_cell_magic\u001b[0;34m(self, magic_name, line, cell)\u001b[0m\n\u001b[1;32m   2539\u001b[0m \u001b[38;5;28;01mwith\u001b[39;00m \u001b[38;5;28mself\u001b[39m\u001b[38;5;241m.\u001b[39mbuiltin_trap:\n\u001b[1;32m   2540\u001b[0m     args \u001b[38;5;241m=\u001b[39m (magic_arg_s, cell)\n\u001b[0;32m-> 2541\u001b[0m     result \u001b[38;5;241m=\u001b[39m \u001b[43mfn\u001b[49m\u001b[43m(\u001b[49m\u001b[38;5;241;43m*\u001b[39;49m\u001b[43margs\u001b[49m\u001b[43m,\u001b[49m\u001b[43m \u001b[49m\u001b[38;5;241;43m*\u001b[39;49m\u001b[38;5;241;43m*\u001b[39;49m\u001b[43mkwargs\u001b[49m\u001b[43m)\u001b[49m\n\u001b[1;32m   2543\u001b[0m \u001b[38;5;66;03m# The code below prevents the output from being displayed\u001b[39;00m\n\u001b[1;32m   2544\u001b[0m \u001b[38;5;66;03m# when using magics with decorator @output_can_be_silenced\u001b[39;00m\n\u001b[1;32m   2545\u001b[0m \u001b[38;5;66;03m# when the last Python token in the expression is a ';'.\u001b[39;00m\n\u001b[1;32m   2546\u001b[0m \u001b[38;5;28;01mif\u001b[39;00m \u001b[38;5;28mgetattr\u001b[39m(fn, magic\u001b[38;5;241m.\u001b[39mMAGIC_OUTPUT_CAN_BE_SILENCED, \u001b[38;5;28;01mFalse\u001b[39;00m):\n",
      "File \u001b[0;32m~/prj/mylis/src/mylis/mylis.py:185\u001b[0m, in \u001b[0;36mmylis\u001b[0;34m(line, cell)\u001b[0m\n\u001b[1;32m    183\u001b[0m     jupyter_env\u001b[38;5;241m.\u001b[39mclear()\n\u001b[1;32m    184\u001b[0m     jupyter_env\u001b[38;5;241m.\u001b[39mupdate(core_env())\n\u001b[0;32m--> 185\u001b[0m result \u001b[38;5;241m=\u001b[39m \u001b[43mrun\u001b[49m\u001b[43m(\u001b[49m\u001b[43mcell\u001b[49m\u001b[43m,\u001b[49m\u001b[43m \u001b[49m\u001b[43mjupyter_env\u001b[49m\u001b[43m)\u001b[49m\n\u001b[1;32m    186\u001b[0m \u001b[38;5;28;01mreturn\u001b[39;00m result\n",
      "File \u001b[0;32m~/prj/mylis/src/mylis/mylis.py:36\u001b[0m, in \u001b[0;36mrun\u001b[0;34m(source, env)\u001b[0m\n\u001b[1;32m     35\u001b[0m \u001b[38;5;28;01mdef\u001b[39;00m \u001b[38;5;21mrun\u001b[39m(source: \u001b[38;5;28mstr\u001b[39m, env: Environment) \u001b[38;5;241m-\u001b[39m\u001b[38;5;241m>\u001b[39m Any:\n\u001b[0;32m---> 36\u001b[0m \u001b[43m    \u001b[49m\u001b[38;5;28;43;01mfor\u001b[39;49;00m\u001b[43m \u001b[49m\u001b[43mresult\u001b[49m\u001b[43m \u001b[49m\u001b[38;5;129;43;01min\u001b[39;49;00m\u001b[43m \u001b[49m\u001b[43mrun_lines\u001b[49m\u001b[43m(\u001b[49m\u001b[43msource\u001b[49m\u001b[43m,\u001b[49m\u001b[43m \u001b[49m\u001b[43menv\u001b[49m\u001b[43m)\u001b[49m\u001b[43m:\u001b[49m\n\u001b[1;32m     37\u001b[0m \u001b[43m        \u001b[49m\u001b[38;5;28;43;01mpass\u001b[39;49;00m\n\u001b[1;32m     38\u001b[0m     \u001b[38;5;28;01mreturn\u001b[39;00m result\n",
      "File \u001b[0;32m~/prj/mylis/src/mylis/mylis.py:32\u001b[0m, in \u001b[0;36mrun_lines\u001b[0;34m(source, env)\u001b[0m\n\u001b[1;32m     30\u001b[0m \u001b[38;5;28;01mwhile\u001b[39;00m tokens:\n\u001b[1;32m     31\u001b[0m     exp \u001b[38;5;241m=\u001b[39m read_from_tokens(tokens)\n\u001b[0;32m---> 32\u001b[0m     \u001b[38;5;28;01myield\u001b[39;00m \u001b[43mevaluate\u001b[49m\u001b[43m(\u001b[49m\u001b[43mexp\u001b[49m\u001b[43m,\u001b[49m\u001b[43m \u001b[49m\u001b[43mglobal_env\u001b[49m\u001b[43m)\u001b[49m\n",
      "File \u001b[0;32m~/prj/mylis/src/mylis/evaluator.py:64\u001b[0m, in \u001b[0;36mevaluate\u001b[0;34m(exp, env)\u001b[0m\n\u001b[1;32m     62\u001b[0m     \u001b[38;5;28;01mreturn\u001b[39;00m result\n\u001b[1;32m     63\u001b[0m \u001b[38;5;28;01mcase\u001b[39;00m [op, \u001b[38;5;241m*\u001b[39margs] \u001b[38;5;28;01mif\u001b[39;00m op \u001b[38;5;129;01mnot\u001b[39;00m \u001b[38;5;129;01min\u001b[39;00m KEYWORDS:        \u001b[38;5;66;03m# (op exp*)\u001b[39;00m\n\u001b[0;32m---> 64\u001b[0m     proc \u001b[38;5;241m=\u001b[39m \u001b[43mevaluate\u001b[49m\u001b[43m(\u001b[49m\u001b[43mop\u001b[49m\u001b[43m,\u001b[49m\u001b[43m \u001b[49m\u001b[43menv\u001b[49m\u001b[43m)\u001b[49m\n\u001b[1;32m     65\u001b[0m     values \u001b[38;5;241m=\u001b[39m [evaluate(arg, env) \u001b[38;5;28;01mfor\u001b[39;00m arg \u001b[38;5;129;01min\u001b[39;00m args]\n\u001b[1;32m     66\u001b[0m     \u001b[38;5;28;01mreturn\u001b[39;00m proc(\u001b[38;5;241m*\u001b[39mvalues)\n",
      "File \u001b[0;32m~/prj/mylis/src/mylis/evaluator.py:42\u001b[0m, in \u001b[0;36mevaluate\u001b[0;34m(exp, env)\u001b[0m\n\u001b[1;32m     40\u001b[0m         \u001b[38;5;28;01mreturn\u001b[39;00m env[var]\n\u001b[1;32m     41\u001b[0m     \u001b[38;5;28;01mexcept\u001b[39;00m \u001b[38;5;167;01mKeyError\u001b[39;00m \u001b[38;5;28;01mas\u001b[39;00m exc:\n\u001b[0;32m---> 42\u001b[0m         \u001b[38;5;28;01mraise\u001b[39;00m UndefinedSymbol(var) \u001b[38;5;28;01mfrom\u001b[39;00m \u001b[38;5;21;01mexc\u001b[39;00m\n\u001b[1;32m     43\u001b[0m \u001b[38;5;28;01mcase\u001b[39;00m [\u001b[38;5;124m'\u001b[39m\u001b[38;5;124mdefine\u001b[39m\u001b[38;5;124m'\u001b[39m, Symbol(var), value_exp]:       \u001b[38;5;66;03m# (define var exp)\u001b[39;00m\n\u001b[1;32m     44\u001b[0m     env[var] \u001b[38;5;241m=\u001b[39m evaluate(value_exp, env)\n",
      "\u001b[0;31mUndefinedSymbol\u001b[0m: Undefined symbol: 'dobro'"
     ]
    }
   ],
   "source": [
    "%%mylis\n",
    "\n",
    "(dobro 4)"
   ]
  },
  {
   "cell_type": "code",
   "execution_count": null,
   "id": "7e17802f-511d-43d0-92f0-6ba75daea247",
   "metadata": {},
   "outputs": [],
   "source": []
  }
 ],
 "metadata": {
  "kernelspec": {
   "display_name": "Python 3 (ipykernel)",
   "language": "python",
   "name": "python3"
  },
  "language_info": {
   "codemirror_mode": {
    "name": "ipython",
    "version": 3
   },
   "file_extension": ".py",
   "mimetype": "text/x-python",
   "name": "python",
   "nbconvert_exporter": "python",
   "pygments_lexer": "ipython3",
   "version": "3.12.2"
  }
 },
 "nbformat": 4,
 "nbformat_minor": 5
}
