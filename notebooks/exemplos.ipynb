{
 "cells": [
  {
   "cell_type": "markdown",
   "id": "e3600062-4835-4b25-8a10-0984a9dd0dbc",
   "metadata": {},
   "source": [
    "# Exemplos\n",
    "\n",
    "Import `mylis` magic."
   ]
  },
  {
   "cell_type": "code",
   "execution_count": 1,
   "id": "c3fd12a9-91c4-4c49-89d4-1cd56a84dd82",
   "metadata": {},
   "outputs": [],
   "source": [
    "from mylis import mylis"
   ]
  },
  {
   "cell_type": "markdown",
   "id": "e297b826-2754-442c-8de1-60f27714c844",
   "metadata": {},
   "source": [
    "## Método bibilônio para computar raíz quadrada\n",
    "\n",
    "Parecido com o método de Newton."
   ]
  },
  {
   "cell_type": "code",
   "execution_count": 2,
   "id": "12a60804-bfc9-4e02-8c88-c718f376f396",
   "metadata": {},
   "outputs": [
    {
     "name": "stdout",
     "output_type": "stream",
     "text": [
      "111111.0\n"
     ]
    }
   ],
   "source": [
    "%%mylis\n",
    "\n",
    "(define raiz2 (lambda (x)\n",
    "    (raiz2-iter 1.0 x)))\n",
    "    \n",
    "(define raiz2-iter (lambda (chute x)\n",
    "    (if (próximo? chute x)\n",
    "        chute\n",
    "        (raiz2-iter (melhorar chute x) x))))\n",
    "        \n",
    "(define próximo? (lambda (chute x)\n",
    "    (< (abs (- (* chute chute) x)) 0.001)))\n",
    "    \n",
    "(define melhorar (lambda (chute x)\n",
    "    (média chute (/ x chute))))\n",
    "    \n",
    "(define média (lambda (x y)\n",
    "    (/ (+ x y) 2)))\n",
    "    \n",
    "(display (raiz2 12345654321))"
   ]
  },
  {
   "cell_type": "code",
   "execution_count": null,
   "id": "f1d00575-1921-4f31-8282-8ff73ea9694e",
   "metadata": {},
   "outputs": [],
   "source": []
  }
 ],
 "metadata": {
  "kernelspec": {
   "display_name": "Python 3 (ipykernel)",
   "language": "python",
   "name": "python3"
  },
  "language_info": {
   "codemirror_mode": {
    "name": "ipython",
    "version": 3
   },
   "file_extension": ".py",
   "mimetype": "text/x-python",
   "name": "python",
   "nbconvert_exporter": "python",
   "pygments_lexer": "ipython3",
   "version": "3.12.2"
  }
 },
 "nbformat": 4,
 "nbformat_minor": 5
}
